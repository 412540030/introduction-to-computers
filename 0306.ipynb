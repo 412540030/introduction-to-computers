{
  "nbformat": 4,
  "nbformat_minor": 0,
  "metadata": {
    "colab": {
      "provenance": [],
      "authorship_tag": "ABX9TyMH6ru5j/noJ4nqztDaNXv7",
      "include_colab_link": true
    },
    "kernelspec": {
      "name": "python3",
      "display_name": "Python 3"
    },
    "language_info": {
      "name": "python"
    }
  },
  "cells": [
    {
      "cell_type": "markdown",
      "metadata": {
        "id": "view-in-github",
        "colab_type": "text"
      },
      "source": [
        "<a href=\"https://colab.research.google.com/github/412540030/introduction-to-computers/blob/main/0306.ipynb\" target=\"_parent\"><img src=\"https://colab.research.google.com/assets/colab-badge.svg\" alt=\"Open In Colab\"/></a>"
      ]
    },
    {
      "cell_type": "code",
      "execution_count": 1,
      "metadata": {
        "colab": {
          "base_uri": "https://localhost:8080/"
        },
        "id": "RXLLrGGLC-iB",
        "outputId": "1a300437-b146-42ff-d35d-1042ae337f54"
      },
      "outputs": [
        {
          "output_type": "stream",
          "name": "stdout",
          "text": [
            "哈摟\n"
          ]
        }
      ],
      "source": [
        "print('哈摟')"
      ]
    },
    {
      "cell_type": "code",
      "source": [
        "print('周律綺')"
      ],
      "metadata": {
        "colab": {
          "base_uri": "https://localhost:8080/"
        },
        "id": "HOvqufNkDNGE",
        "outputId": "8f389321-7115-48b6-b803-458eb129912c"
      },
      "execution_count": 2,
      "outputs": [
        {
          "output_type": "stream",
          "name": "stdout",
          "text": [
            "周律綺\n"
          ]
        }
      ]
    },
    {
      "cell_type": "code",
      "source": [
        "print('hi')"
      ],
      "metadata": {
        "colab": {
          "base_uri": "https://localhost:8080/"
        },
        "id": "6uVbDcMUDZT7",
        "outputId": "bafe21f3-aa20-4b9c-bf6d-e0e2ffe3a5fc"
      },
      "execution_count": 3,
      "outputs": [
        {
          "output_type": "stream",
          "name": "stdout",
          "text": [
            "hi\n"
          ]
        }
      ]
    }
  ]
}