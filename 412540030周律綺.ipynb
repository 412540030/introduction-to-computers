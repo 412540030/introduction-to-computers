{
  "nbformat": 4,
  "nbformat_minor": 0,
  "metadata": {
    "colab": {
      "provenance": [],
      "authorship_tag": "ABX9TyOBvvD/KIAo6X/M0RhZPnY0",
      "include_colab_link": true
    },
    "kernelspec": {
      "name": "python3",
      "display_name": "Python 3"
    },
    "language_info": {
      "name": "python"
    }
  },
  "cells": [
    {
      "cell_type": "markdown",
      "metadata": {
        "id": "view-in-github",
        "colab_type": "text"
      },
      "source": [
        "<a href=\"https://colab.research.google.com/github/412540030/introduction-to-computers/blob/main/412540030%E5%91%A8%E5%BE%8B%E7%B6%BA.ipynb\" target=\"_parent\"><img src=\"https://colab.research.google.com/assets/colab-badge.svg\" alt=\"Open In Colab\"/></a>"
      ]
    },
    {
      "cell_type": "code",
      "execution_count": 7,
      "metadata": {
        "id": "np0e0VNIZjgp",
        "colab": {
          "base_uri": "https://localhost:8080/"
        },
        "outputId": "c00891cf-75de-4040-ae73-bc4dda4d0ccf"
      },
      "outputs": [
        {
          "output_type": "stream",
          "name": "stdout",
          "text": [
            "37\n",
            "體溫異常，請重新測量!\n"
          ]
        }
      ],
      "source": [
        "T=int(input())\n",
        "if(T>=37.5):\n",
        "   print('體溫過高!'.format(T))\n",
        "elif(37.4<=T<=37.0):\n",
        "   print('體溫略高!'.format(T))\n",
        "elif(34<=T<=36.9):\n",
        "   print('體溫正常!'.format(T))\n",
        "else:(T<34)\n",
        "print('體溫異常，請重新測量!'.format(T))\n"
      ]
    },
    {
      "cell_type": "code",
      "source": [
        "month=int(input())\n",
        "if(month>=1 and month<=12):\n",
        "  if(month==1 or month==2 or month==3):\n",
        "   print('{}月是春天'.format(month))\n",
        "  elif(month==4 or month==5 or month==6):\n",
        "   print('{}月是夏天'.format(month))\n",
        "  elif(month==7 or month==8 or month==9):\n",
        "   print('{}月是秋天'.format(month))\n",
        "  else:\n",
        "   print('{}月是冬天'.format(month))\n",
        "else:\n",
        "  print('月份不在範圍內')"
      ],
      "metadata": {
        "id": "OLmtdvvOaZpa",
        "colab": {
          "base_uri": "https://localhost:8080/"
        },
        "outputId": "a213f06a-3d4b-4b67-a90c-461434f77053"
      },
      "execution_count": 2,
      "outputs": [
        {
          "output_type": "stream",
          "name": "stdout",
          "text": [
            "5\n",
            "5月是夏天\n"
          ]
        }
      ]
    },
    {
      "cell_type": "code",
      "source": [
        "M=int(input())\n",
        "if(M>=2000000):\n",
        "   print('稅率為0.3'.format(M))\n",
        "elif(2000000>=M>=1000000):\n",
        "   print('稅率為0.21'.format(M))\n",
        "elif(1000000>=M>=600000):\n",
        "   print('稅率為0.13'.format(M))\n",
        "else:(600000>=M>=300000)\n",
        "print('稅率為0.06'.format(M))"
      ],
      "metadata": {
        "colab": {
          "base_uri": "https://localhost:8080/"
        },
        "id": "oLH1y8B6ttS4",
        "outputId": "1bc273b5-0050-47ae-bb55-0fccad725cf3"
      },
      "execution_count": 6,
      "outputs": [
        {
          "output_type": "stream",
          "name": "stdout",
          "text": [
            "500000\n",
            "稅率為0.06\n"
          ]
        }
      ]
    }
  ]
}